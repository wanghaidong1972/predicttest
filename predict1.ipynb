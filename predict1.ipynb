{
 "cells": [
  {
   "cell_type": "code",
   "execution_count": 48,
   "metadata": {},
   "outputs": [],
   "source": [
    "import numpy as np\n",
    "import pandas as pd\n",
    "from scipy import stats\n",
    " \n",
    "# グラフ描画\n",
    "from matplotlib import pylab as plt\n",
    "import seaborn as sns\n",
    "%matplotlib inline"
   ]
  },
  {
   "cell_type": "code",
   "execution_count": 49,
   "metadata": {},
   "outputs": [
    {
     "data": {
      "text/html": [
       "<div>\n",
       "<style scoped>\n",
       "    .dataframe tbody tr th:only-of-type {\n",
       "        vertical-align: middle;\n",
       "    }\n",
       "\n",
       "    .dataframe tbody tr th {\n",
       "        vertical-align: top;\n",
       "    }\n",
       "\n",
       "    .dataframe thead th {\n",
       "        text-align: right;\n",
       "    }\n",
       "</style>\n",
       "<table border=\"1\" class=\"dataframe\">\n",
       "  <thead>\n",
       "    <tr style=\"text-align: right;\">\n",
       "      <th></th>\n",
       "      <th>btcbegin</th>\n",
       "      <th>btchigh</th>\n",
       "      <th>btclow</th>\n",
       "      <th>btcend</th>\n",
       "      <th>cboebegin</th>\n",
       "      <th>cboehigh</th>\n",
       "      <th>cboelow</th>\n",
       "      <th>cboeend</th>\n",
       "      <th>cboevolumn</th>\n",
       "      <th>3hbefore</th>\n",
       "      <th>12hbefore</th>\n",
       "      <th>1dbefore</th>\n",
       "      <th>2dbefore</th>\n",
       "      <th>3hafter</th>\n",
       "      <th>12hafter</th>\n",
       "      <th>1dafter</th>\n",
       "      <th>2dafter</th>\n",
       "    </tr>\n",
       "  </thead>\n",
       "  <tbody>\n",
       "    <tr>\n",
       "      <th>0</th>\n",
       "      <td>0.841661</td>\n",
       "      <td>0.852194</td>\n",
       "      <td>0.852028</td>\n",
       "      <td>0.847339</td>\n",
       "      <td>0.881466</td>\n",
       "      <td>0.855938</td>\n",
       "      <td>0.889861</td>\n",
       "      <td>0.892185</td>\n",
       "      <td>0.001399</td>\n",
       "      <td>1</td>\n",
       "      <td>0</td>\n",
       "      <td>0</td>\n",
       "      <td>0</td>\n",
       "      <td>1</td>\n",
       "      <td>0</td>\n",
       "      <td>0</td>\n",
       "      <td>0</td>\n",
       "    </tr>\n",
       "    <tr>\n",
       "      <th>1</th>\n",
       "      <td>0.847584</td>\n",
       "      <td>0.849842</td>\n",
       "      <td>0.850851</td>\n",
       "      <td>0.834259</td>\n",
       "      <td>0.881466</td>\n",
       "      <td>0.862966</td>\n",
       "      <td>0.889861</td>\n",
       "      <td>0.899421</td>\n",
       "      <td>0.002797</td>\n",
       "      <td>1</td>\n",
       "      <td>0</td>\n",
       "      <td>0</td>\n",
       "      <td>0</td>\n",
       "      <td>0</td>\n",
       "      <td>0</td>\n",
       "      <td>0</td>\n",
       "      <td>0</td>\n",
       "    </tr>\n",
       "    <tr>\n",
       "      <th>2</th>\n",
       "      <td>0.834259</td>\n",
       "      <td>0.851696</td>\n",
       "      <td>0.859213</td>\n",
       "      <td>0.856183</td>\n",
       "      <td>0.892960</td>\n",
       "      <td>0.861560</td>\n",
       "      <td>0.901334</td>\n",
       "      <td>0.897974</td>\n",
       "      <td>0.001399</td>\n",
       "      <td>1</td>\n",
       "      <td>0</td>\n",
       "      <td>0</td>\n",
       "      <td>0</td>\n",
       "      <td>0</td>\n",
       "      <td>0</td>\n",
       "      <td>0</td>\n",
       "      <td>0</td>\n",
       "    </tr>\n",
       "    <tr>\n",
       "      <th>3</th>\n",
       "      <td>0.856183</td>\n",
       "      <td>0.846330</td>\n",
       "      <td>0.847294</td>\n",
       "      <td>0.830488</td>\n",
       "      <td>0.881466</td>\n",
       "      <td>0.848911</td>\n",
       "      <td>0.879105</td>\n",
       "      <td>0.874096</td>\n",
       "      <td>0.002797</td>\n",
       "      <td>0</td>\n",
       "      <td>0</td>\n",
       "      <td>0</td>\n",
       "      <td>0</td>\n",
       "      <td>0</td>\n",
       "      <td>0</td>\n",
       "      <td>0</td>\n",
       "      <td>0</td>\n",
       "    </tr>\n",
       "    <tr>\n",
       "      <th>4</th>\n",
       "      <td>0.830488</td>\n",
       "      <td>0.831418</td>\n",
       "      <td>0.800146</td>\n",
       "      <td>0.792579</td>\n",
       "      <td>0.870690</td>\n",
       "      <td>0.838370</td>\n",
       "      <td>0.864764</td>\n",
       "      <td>0.859624</td>\n",
       "      <td>0.002797</td>\n",
       "      <td>1</td>\n",
       "      <td>1</td>\n",
       "      <td>0</td>\n",
       "      <td>0</td>\n",
       "      <td>0</td>\n",
       "      <td>1</td>\n",
       "      <td>0</td>\n",
       "      <td>0</td>\n",
       "    </tr>\n",
       "  </tbody>\n",
       "</table>\n",
       "</div>"
      ],
      "text/plain": [
       "   btcbegin   btchigh    btclow    btcend  cboebegin  cboehigh   cboelow  \\\n",
       "0  0.841661  0.852194  0.852028  0.847339   0.881466  0.855938  0.889861   \n",
       "1  0.847584  0.849842  0.850851  0.834259   0.881466  0.862966  0.889861   \n",
       "2  0.834259  0.851696  0.859213  0.856183   0.892960  0.861560  0.901334   \n",
       "3  0.856183  0.846330  0.847294  0.830488   0.881466  0.848911  0.879105   \n",
       "4  0.830488  0.831418  0.800146  0.792579   0.870690  0.838370  0.864764   \n",
       "\n",
       "    cboeend  cboevolumn  3hbefore  12hbefore  1dbefore  2dbefore  3hafter  \\\n",
       "0  0.892185    0.001399         1          0         0         0        1   \n",
       "1  0.899421    0.002797         1          0         0         0        0   \n",
       "2  0.897974    0.001399         1          0         0         0        0   \n",
       "3  0.874096    0.002797         0          0         0         0        0   \n",
       "4  0.859624    0.002797         1          1         0         0        0   \n",
       "\n",
       "   12hafter  1dafter  2dafter  \n",
       "0         0        0        0  \n",
       "1         0        0        0  \n",
       "2         0        0        0  \n",
       "3         0        0        0  \n",
       "4         1        0        0  "
      ]
     },
     "execution_count": 49,
     "metadata": {},
     "output_type": "execute_result"
    }
   ],
   "source": [
    "df1 = pd.read_csv('prepared.csv')\n",
    "df1.head(5)"
   ]
  },
  {
   "cell_type": "code",
   "execution_count": 51,
   "metadata": {},
   "outputs": [],
   "source": [
    "from sklearn import svm"
   ]
  },
  {
   "cell_type": "code",
   "execution_count": 52,
   "metadata": {},
   "outputs": [
    {
     "data": {
      "text/plain": [
       "(1124, 13)"
      ]
     },
     "execution_count": 52,
     "metadata": {},
     "output_type": "execute_result"
    }
   ],
   "source": [
    "dftmp = df1.drop(['3hafter','12hafter','1dafter','2dafter'],axis=1)\n",
    "X_factors = dftmp.as_matrix()\n",
    "type(X_factors)\n",
    "X_factors.shape"
   ]
  },
  {
   "cell_type": "code",
   "execution_count": 53,
   "metadata": {},
   "outputs": [
    {
     "data": {
      "text/plain": [
       "(1124,)"
      ]
     },
     "execution_count": 53,
     "metadata": {},
     "output_type": "execute_result"
    }
   ],
   "source": [
    "y_target = df1['3hafter'].values\n",
    "y_target.shape"
   ]
  },
  {
   "cell_type": "code",
   "execution_count": 54,
   "metadata": {},
   "outputs": [
    {
     "data": {
      "text/plain": [
       "0.52"
      ]
     },
     "execution_count": 54,
     "metadata": {},
     "output_type": "execute_result"
    }
   ],
   "source": [
    "svc = svm.SVC(C=1, kernel='linear')\n",
    "svc.fit(X_factors[:-100], y_target[:-100]).score(X_factors[-100:], y_target[-100:])"
   ]
  },
  {
   "cell_type": "code",
   "execution_count": 55,
   "metadata": {},
   "outputs": [
    {
     "data": {
      "text/plain": [
       "array([1, 1, 0, 1, 1])"
      ]
     },
     "execution_count": 55,
     "metadata": {},
     "output_type": "execute_result"
    }
   ],
   "source": [
    "svc.predict(X_factors[1099:1104])"
   ]
  },
  {
   "cell_type": "code",
   "execution_count": 56,
   "metadata": {},
   "outputs": [
    {
     "data": {
      "text/plain": [
       "array([[-4.05936874, -1.20166947, -0.85174787,  1.66264826, -1.02034796,\n",
       "         1.03646756,  1.59671808,  2.88548374, -0.43142579,  0.26334153,\n",
       "         1.53691394, -0.15119274, -0.010138  ]])"
      ]
     },
     "execution_count": 56,
     "metadata": {},
     "output_type": "execute_result"
    }
   ],
   "source": [
    "svc.coef_"
   ]
  },
  {
   "cell_type": "code",
   "execution_count": 57,
   "metadata": {},
   "outputs": [
    {
     "data": {
      "text/plain": [
       "0.53"
      ]
     },
     "execution_count": 57,
     "metadata": {},
     "output_type": "execute_result"
    }
   ],
   "source": [
    "from sklearn.tree import DecisionTreeClassifier\n",
    "\n",
    "dectree = DecisionTreeClassifier(max_depth=5) \n",
    "dectree.fit(X_factors[:-100], y_target[:-100]).score(X_factors[-100:], y_target[-100:])"
   ]
  },
  {
   "cell_type": "code",
   "execution_count": null,
   "metadata": {},
   "outputs": [],
   "source": []
  },
  {
   "cell_type": "code",
   "execution_count": 58,
   "metadata": {},
   "outputs": [
    {
     "data": {
      "text/plain": [
       "0.54"
      ]
     },
     "execution_count": 58,
     "metadata": {},
     "output_type": "execute_result"
    }
   ],
   "source": [
    "from sklearn.neural_network import MLPClassifier\n",
    "\n",
    "mlp = MLPClassifier(alpha=1) \n",
    "mlp.fit(X_factors[:-100], y_target[:-100]).score(X_factors[-100:], y_target[-100:])"
   ]
  },
  {
   "cell_type": "code",
   "execution_count": 59,
   "metadata": {},
   "outputs": [
    {
     "data": {
      "text/plain": [
       "0.51"
      ]
     },
     "execution_count": 59,
     "metadata": {},
     "output_type": "execute_result"
    }
   ],
   "source": [
    "from sklearn.ensemble import RandomForestClassifier, AdaBoostClassifier\n",
    "\n",
    "forest =  RandomForestClassifier(max_depth=5, n_estimators=10, max_features=1)\n",
    "forest.fit(X_factors[:-100], y_target[:-100]).score(X_factors[-100:], y_target[-100:])"
   ]
  },
  {
   "cell_type": "code",
   "execution_count": 61,
   "metadata": {},
   "outputs": [
    {
     "data": {
      "text/plain": [
       "(1124,)"
      ]
     },
     "execution_count": 61,
     "metadata": {},
     "output_type": "execute_result"
    }
   ],
   "source": [
    "y_target_1d = df1['1dafter'].values\n",
    "y_target_1d.shape"
   ]
  },
  {
   "cell_type": "code",
   "execution_count": 62,
   "metadata": {},
   "outputs": [
    {
     "data": {
      "text/plain": [
       "0.31"
      ]
     },
     "execution_count": 62,
     "metadata": {},
     "output_type": "execute_result"
    }
   ],
   "source": [
    "svc.fit(X_factors[:-100], y_target_1d[:-100]).score(X_factors[-100:], y_target_1d[-100:])"
   ]
  },
  {
   "cell_type": "code",
   "execution_count": 63,
   "metadata": {},
   "outputs": [
    {
     "data": {
      "text/plain": [
       "0.37"
      ]
     },
     "execution_count": 63,
     "metadata": {},
     "output_type": "execute_result"
    }
   ],
   "source": [
    "forest.fit(X_factors[:-100], y_target_1d[:-100]).score(X_factors[-100:], y_target_1d[-100:])"
   ]
  },
  {
   "cell_type": "code",
   "execution_count": 64,
   "metadata": {},
   "outputs": [
    {
     "data": {
      "text/plain": [
       "0.39"
      ]
     },
     "execution_count": 64,
     "metadata": {},
     "output_type": "execute_result"
    }
   ],
   "source": [
    "mlp.fit(X_factors[:-100], y_target_1d[:-100]).score(X_factors[-100:], y_target_1d[-100:])"
   ]
  },
  {
   "cell_type": "code",
   "execution_count": 65,
   "metadata": {},
   "outputs": [
    {
     "data": {
      "text/plain": [
       "0.31"
      ]
     },
     "execution_count": 65,
     "metadata": {},
     "output_type": "execute_result"
    }
   ],
   "source": [
    "dectree.fit(X_factors[:-100], y_target_1d[:-100]).score(X_factors[-100:], y_target_1d[-100:])"
   ]
  },
  {
   "cell_type": "code",
   "execution_count": 66,
   "metadata": {},
   "outputs": [
    {
     "data": {
      "text/plain": [
       "[0.5466666666666666, 0.552, 0.5026737967914439]"
      ]
     },
     "execution_count": 66,
     "metadata": {},
     "output_type": "execute_result"
    }
   ],
   "source": [
    "from sklearn.model_selection import KFold, cross_val_score\n",
    "\n",
    "k_fold = KFold(n_splits=3)\n",
    "[svc.fit(X_factors[train], y_target[train]).score(X_factors[test], y_target[test]) for train, test in k_fold.split(X_factors)]"
   ]
  },
  {
   "cell_type": "code",
   "execution_count": 67,
   "metadata": {},
   "outputs": [
    {
     "data": {
      "text/plain": [
       "GridSearchCV(cv=None, error_score='raise',\n",
       "       estimator=SVC(C=1, cache_size=200, class_weight=None, coef0=0.0,\n",
       "  decision_function_shape='ovr', degree=3, gamma='auto', kernel='linear',\n",
       "  max_iter=-1, probability=False, random_state=None, shrinking=True,\n",
       "  tol=0.001, verbose=False),\n",
       "       fit_params=None, iid=True, n_jobs=-1,\n",
       "       param_grid={'C': array([1.00000e-06, 3.59381e-06, 1.29155e-05, 4.64159e-05, 1.66810e-04,\n",
       "       5.99484e-04, 2.15443e-03, 7.74264e-03, 2.78256e-02, 1.00000e-01])},\n",
       "       pre_dispatch='2*n_jobs', refit=True, return_train_score='warn',\n",
       "       scoring=None, verbose=0)"
      ]
     },
     "execution_count": 67,
     "metadata": {},
     "output_type": "execute_result"
    }
   ],
   "source": [
    "from sklearn.model_selection import GridSearchCV, cross_val_score\n",
    "Cs = np.logspace(-6, -1, 10)\n",
    "clf = GridSearchCV(estimator=svc, param_grid=dict(C=Cs),n_jobs=-1)\n",
    "clf.fit(X_factors[:800], y_target[:800])   "
   ]
  },
  {
   "cell_type": "code",
   "execution_count": 68,
   "metadata": {},
   "outputs": [
    {
     "data": {
      "text/plain": [
       "0.1"
      ]
     },
     "execution_count": 68,
     "metadata": {},
     "output_type": "execute_result"
    }
   ],
   "source": [
    "clf.best_estimator_.C"
   ]
  },
  {
   "cell_type": "code",
   "execution_count": 69,
   "metadata": {},
   "outputs": [
    {
     "data": {
      "text/plain": [
       "array([0.504     , 0.53866667, 0.49465241])"
      ]
     },
     "execution_count": 69,
     "metadata": {},
     "output_type": "execute_result"
    }
   ],
   "source": [
    "cross_val_score(clf, X_factors, y_target)"
   ]
  },
  {
   "cell_type": "code",
   "execution_count": 76,
   "metadata": {},
   "outputs": [
    {
     "data": {
      "image/png": "[encoded data removed]",
      "text/plain": [
       "<matplotlib.figure.Figure at 0x119767dd8>"
      ]
     },
     "metadata": {},
     "output_type": "display_data"
    }
   ],
   "source": [
    "from sklearn.metrics import confusion_matrix\n",
    "\n",
    "y_model = svc.predict(X_factors[-100:])\n",
    "mat = confusion_matrix(y_target[-100:], y_model)\n",
    "\n",
    "sns.heatmap(mat, square=True, annot=True, cbar=False)\n",
    "plt.xlabel('predicted value')\n",
    "plt.ylabel('true value');"
   ]
  },
  {
   "cell_type": "code",
   "execution_count": 77,
   "metadata": {},
   "outputs": [],
   "source": [
    "from sklearn.metrics import roc_curve\n",
    "\n",
    "svc_f, svc_p, _ = roc_curve(y_target[-100:], y_model)"
   ]
  },
  {
   "cell_type": "code",
   "execution_count": 80,
   "metadata": {},
   "outputs": [
    {
     "data": {
      "image/png": "[encoded data removed]",
      "text/plain": [
       "<matplotlib.figure.Figure at 0x10f01a240>"
      ]
     },
     "metadata": {},
     "output_type": "display_data"
    }
   ],
   "source": [
    "plt.figure(1)\n",
    "plt.plot([0, 1], [0, 1], 'k--')\n",
    "plt.plot(svc_f, svc_p, label='RT + LR')\n",
    "plt.xlabel('False positive rate')\n",
    "plt.ylabel('True positive rate')\n",
    "plt.title('ROC curve')\n",
    "plt.show()"
   ]
  }
 ],
 "metadata": {
  "kernelspec": {
   "display_name": "Python (bitcoin)",
   "language": "python",
   "name": "bitcoin"
  },
  "language_info": {
   "codemirror_mode": {
    "name": "ipython",
    "version": 3
   },
   "file_extension": ".py",
   "mimetype": "text/x-python",
   "name": "python",
   "nbconvert_exporter": "python",
   "pygments_lexer": "ipython3",
   "version": "3.6.4"
  }
 },
 "nbformat": 4,
 "nbformat_minor": 2
}
