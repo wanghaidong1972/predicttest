{
 "cells": [
  {
   "cell_type": "code",
   "execution_count": 1,
   "metadata": {},
   "outputs": [],
   "source": [
    "import numpy as np\n",
    "import pandas as pd\n",
    "from scipy import stats\n",
    " \n",
    "# グラフ描画\n",
    "from matplotlib import pylab as plt\n",
    "import seaborn as sns\n",
    "%matplotlib inline\n"
   ]
  },
  {
   "cell_type": "code",
   "execution_count": 2,
   "metadata": {},
   "outputs": [],
   "source": [
    "# グラフを横長にする\n",
    "from matplotlib.pylab import rcParams\n",
    "rcParams['figure.figsize'] = 15, 6\n",
    " \n",
    "# 統計モデル\n",
    "#import statsmodels.api as sm\n",
    "import pandas.tseries as sm"
   ]
  },
  {
   "cell_type": "code",
   "execution_count": 3,
   "metadata": {},
   "outputs": [],
   "source": [
    "f3 = '%Y/%m/%d %H:%M'\n",
    "my_parser = lambda date: pd.datetime.strptime(date, f3)"
   ]
  },
  {
   "cell_type": "code",
   "execution_count": 4,
   "metadata": {},
   "outputs": [
    {
     "data": {
      "text/html": [
       "<div>\n",
       "<style scoped>\n",
       "    .dataframe tbody tr th:only-of-type {\n",
       "        vertical-align: middle;\n",
       "    }\n",
       "\n",
       "    .dataframe tbody tr th {\n",
       "        vertical-align: top;\n",
       "    }\n",
       "\n",
       "    .dataframe thead th {\n",
       "        text-align: right;\n",
       "    }\n",
       "</style>\n",
       "<table border=\"1\" class=\"dataframe\">\n",
       "  <thead>\n",
       "    <tr style=\"text-align: right;\">\n",
       "      <th></th>\n",
       "      <th>date</th>\n",
       "      <th>begin</th>\n",
       "      <th>high</th>\n",
       "      <th>low</th>\n",
       "      <th>end</th>\n",
       "    </tr>\n",
       "  </thead>\n",
       "  <tbody>\n",
       "    <tr>\n",
       "      <th>0</th>\n",
       "      <td>2018/2/16 15:00</td>\n",
       "      <td>10099.9063</td>\n",
       "      <td>10112.8047</td>\n",
       "      <td>10027.1211</td>\n",
       "      <td>10027.1211</td>\n",
       "    </tr>\n",
       "    <tr>\n",
       "      <th>1</th>\n",
       "      <td>2018/2/16 14:00</td>\n",
       "      <td>10002.7793</td>\n",
       "      <td>10145.4453</td>\n",
       "      <td>10002.4316</td>\n",
       "      <td>10099.9063</td>\n",
       "    </tr>\n",
       "    <tr>\n",
       "      <th>2</th>\n",
       "      <td>2018/2/16 13:00</td>\n",
       "      <td>10121.5996</td>\n",
       "      <td>10125.2246</td>\n",
       "      <td>9955.7051</td>\n",
       "      <td>10002.7793</td>\n",
       "    </tr>\n",
       "    <tr>\n",
       "      <th>3</th>\n",
       "      <td>2018/2/16 12:00</td>\n",
       "      <td>10193.3984</td>\n",
       "      <td>10218.4492</td>\n",
       "      <td>10056.2695</td>\n",
       "      <td>10121.5996</td>\n",
       "    </tr>\n",
       "    <tr>\n",
       "      <th>4</th>\n",
       "      <td>2018/2/16 11:00</td>\n",
       "      <td>10300.0098</td>\n",
       "      <td>10300.5430</td>\n",
       "      <td>10167.4785</td>\n",
       "      <td>10193.3984</td>\n",
       "    </tr>\n",
       "  </tbody>\n",
       "</table>\n",
       "</div>"
      ],
      "text/plain": [
       "              date       begin        high         low         end\n",
       "0  2018/2/16 15:00  10099.9063  10112.8047  10027.1211  10027.1211\n",
       "1  2018/2/16 14:00  10002.7793  10145.4453  10002.4316  10099.9063\n",
       "2  2018/2/16 13:00  10121.5996  10125.2246   9955.7051  10002.7793\n",
       "3  2018/2/16 12:00  10193.3984  10218.4492  10056.2695  10121.5996\n",
       "4  2018/2/16 11:00  10300.0098  10300.5430  10167.4785  10193.3984"
      ]
     },
     "execution_count": 4,
     "metadata": {},
     "output_type": "execute_result"
    }
   ],
   "source": [
    "dataNormal = pd.read_csv('btc.csv',parse_dates=True,date_parser=my_parser)\n",
    "dataNormal.head(5)"
   ]
  },
  {
   "cell_type": "code",
   "execution_count": 36,
   "metadata": {},
   "outputs": [
    {
     "data": {
      "text/html": [
       "<div>\n",
       "<style scoped>\n",
       "    .dataframe tbody tr th:only-of-type {\n",
       "        vertical-align: middle;\n",
       "    }\n",
       "\n",
       "    .dataframe tbody tr th {\n",
       "        vertical-align: top;\n",
       "    }\n",
       "\n",
       "    .dataframe thead th {\n",
       "        text-align: right;\n",
       "    }\n",
       "</style>\n",
       "<table border=\"1\" class=\"dataframe\">\n",
       "  <thead>\n",
       "    <tr style=\"text-align: right;\">\n",
       "      <th></th>\n",
       "      <th>begin</th>\n",
       "      <th>high</th>\n",
       "      <th>low</th>\n",
       "      <th>end</th>\n",
       "    </tr>\n",
       "  </thead>\n",
       "  <tbody>\n",
       "    <tr>\n",
       "      <th>0</th>\n",
       "      <td>10099.9063</td>\n",
       "      <td>10112.8047</td>\n",
       "      <td>10027.1211</td>\n",
       "      <td>10027.1211</td>\n",
       "    </tr>\n",
       "    <tr>\n",
       "      <th>1</th>\n",
       "      <td>10002.7793</td>\n",
       "      <td>10145.4453</td>\n",
       "      <td>10002.4316</td>\n",
       "      <td>10099.9063</td>\n",
       "    </tr>\n",
       "    <tr>\n",
       "      <th>2</th>\n",
       "      <td>10121.5996</td>\n",
       "      <td>10125.2246</td>\n",
       "      <td>9955.7051</td>\n",
       "      <td>10002.7793</td>\n",
       "    </tr>\n",
       "    <tr>\n",
       "      <th>3</th>\n",
       "      <td>10193.3984</td>\n",
       "      <td>10218.4492</td>\n",
       "      <td>10056.2695</td>\n",
       "      <td>10121.5996</td>\n",
       "    </tr>\n",
       "  </tbody>\n",
       "</table>\n",
       "</div>"
      ],
      "text/plain": [
       "        begin        high         low         end\n",
       "0  10099.9063  10112.8047  10027.1211  10027.1211\n",
       "1  10002.7793  10145.4453  10002.4316  10099.9063\n",
       "2  10121.5996  10125.2246   9955.7051  10002.7793\n",
       "3  10193.3984  10218.4492  10056.2695  10121.5996"
      ]
     },
     "execution_count": 36,
     "metadata": {},
     "output_type": "execute_result"
    }
   ],
   "source": [
    "dataNormal.loc[:3,'begin':'end']"
   ]
  },
  {
   "cell_type": "code",
   "execution_count": 52,
   "metadata": {},
   "outputs": [],
   "source": [
    "def myfun(x):\n",
    "    return 1 if x else -1\n"
   ]
  },
  {
   "cell_type": "code",
   "execution_count": 55,
   "metadata": {},
   "outputs": [
    {
     "data": {
      "text/plain": [
       "0    1\n",
       "1    1\n",
       "2    1\n",
       "3    1\n",
       "4    1\n",
       "Name: begin, dtype: int64"
      ]
     },
     "execution_count": 55,
     "metadata": {},
     "output_type": "execute_result"
    }
   ],
   "source": [
    "dataNormal['begin'] .map(myfun).head(5)"
   ]
  },
  {
   "cell_type": "code",
   "execution_count": 5,
   "metadata": {},
   "outputs": [],
   "source": [
    "#dataNormal= pd.to_datetime(dataNormal['date'],format='%Y/%m/%d %H:%M')\n"
   ]
  },
  {
   "cell_type": "code",
   "execution_count": 5,
   "metadata": {},
   "outputs": [
    {
     "data": {
      "text/html": [
       "<div>\n",
       "<style scoped>\n",
       "    .dataframe tbody tr th:only-of-type {\n",
       "        vertical-align: middle;\n",
       "    }\n",
       "\n",
       "    .dataframe tbody tr th {\n",
       "        vertical-align: top;\n",
       "    }\n",
       "\n",
       "    .dataframe thead th {\n",
       "        text-align: right;\n",
       "    }\n",
       "</style>\n",
       "<table border=\"1\" class=\"dataframe\">\n",
       "  <thead>\n",
       "    <tr style=\"text-align: right;\">\n",
       "      <th></th>\n",
       "      <th>date</th>\n",
       "      <th>begin</th>\n",
       "      <th>high</th>\n",
       "      <th>low</th>\n",
       "      <th>end</th>\n",
       "    </tr>\n",
       "  </thead>\n",
       "  <tbody>\n",
       "    <tr>\n",
       "      <th>0</th>\n",
       "      <td>2018/2/16 15:00</td>\n",
       "      <td>10099.9063</td>\n",
       "      <td>10112.8047</td>\n",
       "      <td>10027.1211</td>\n",
       "      <td>10027.1211</td>\n",
       "    </tr>\n",
       "    <tr>\n",
       "      <th>1</th>\n",
       "      <td>2018/2/16 14:00</td>\n",
       "      <td>10002.7793</td>\n",
       "      <td>10145.4453</td>\n",
       "      <td>10002.4316</td>\n",
       "      <td>10099.9063</td>\n",
       "    </tr>\n",
       "  </tbody>\n",
       "</table>\n",
       "</div>"
      ],
      "text/plain": [
       "              date       begin        high         low         end\n",
       "0  2018/2/16 15:00  10099.9063  10112.8047  10027.1211  10027.1211\n",
       "1  2018/2/16 14:00  10002.7793  10145.4453  10002.4316  10099.9063"
      ]
     },
     "execution_count": 5,
     "metadata": {},
     "output_type": "execute_result"
    }
   ],
   "source": [
    "dataNormal.begin.pct_change().fillna(0.0)*100\n",
    "dataNormal.head(2)\n",
    "#(dataNormal['high']-dataNormal['low'])/dataNormal['begin']*100.head(5)"
   ]
  },
  {
   "cell_type": "code",
   "execution_count": 6,
   "metadata": {},
   "outputs": [
    {
     "data": {
      "text/html": [
       "<div>\n",
       "<style scoped>\n",
       "    .dataframe tbody tr th:only-of-type {\n",
       "        vertical-align: middle;\n",
       "    }\n",
       "\n",
       "    .dataframe tbody tr th {\n",
       "        vertical-align: top;\n",
       "    }\n",
       "\n",
       "    .dataframe thead th {\n",
       "        text-align: right;\n",
       "    }\n",
       "</style>\n",
       "<table border=\"1\" class=\"dataframe\">\n",
       "  <thead>\n",
       "    <tr style=\"text-align: right;\">\n",
       "      <th></th>\n",
       "      <th>btcdate</th>\n",
       "      <th>btcbegin</th>\n",
       "      <th>btchigh</th>\n",
       "      <th>btclow</th>\n",
       "      <th>btcend</th>\n",
       "      <th>cboedate</th>\n",
       "      <th>cboebegin</th>\n",
       "      <th>cboehigh</th>\n",
       "      <th>cboelow</th>\n",
       "      <th>cboeend</th>\n",
       "      <th>cboevolumn</th>\n",
       "    </tr>\n",
       "  </thead>\n",
       "  <tbody>\n",
       "    <tr>\n",
       "      <th>1215</th>\n",
       "      <td>2017/12/11 11:00</td>\n",
       "      <td>16162.8467</td>\n",
       "      <td>16503.3926</td>\n",
       "      <td>16004.5996</td>\n",
       "      <td>16502.0645</td>\n",
       "      <td>2017/12/11 11:00</td>\n",
       "      <td>17540.0</td>\n",
       "      <td>18660.0</td>\n",
       "      <td>17400.0</td>\n",
       "      <td>18660.0</td>\n",
       "      <td>7.0</td>\n",
       "    </tr>\n",
       "    <tr>\n",
       "      <th>1216</th>\n",
       "      <td>2017/12/11 10:00</td>\n",
       "      <td>15459.7676</td>\n",
       "      <td>16179.0859</td>\n",
       "      <td>15458.7402</td>\n",
       "      <td>16162.8467</td>\n",
       "      <td>2017/12/11 10:00</td>\n",
       "      <td>17000.0</td>\n",
       "      <td>17260.0</td>\n",
       "      <td>17000.0</td>\n",
       "      <td>17260.0</td>\n",
       "      <td>3.0</td>\n",
       "    </tr>\n",
       "    <tr>\n",
       "      <th>1217</th>\n",
       "      <td>2017/12/11 9:00</td>\n",
       "      <td>15097.2529</td>\n",
       "      <td>15546.0771</td>\n",
       "      <td>15060.0107</td>\n",
       "      <td>15459.7676</td>\n",
       "      <td>2017/12/11 9:00</td>\n",
       "      <td>16430.0</td>\n",
       "      <td>16800.0</td>\n",
       "      <td>16430.0</td>\n",
       "      <td>16800.0</td>\n",
       "      <td>2.0</td>\n",
       "    </tr>\n",
       "    <tr>\n",
       "      <th>1218</th>\n",
       "      <td>2017/12/11 8:00</td>\n",
       "      <td>14646.6904</td>\n",
       "      <td>15916.0957</td>\n",
       "      <td>14643.7852</td>\n",
       "      <td>15097.2529</td>\n",
       "      <td>2017/12/11 8:00</td>\n",
       "      <td>NaN</td>\n",
       "      <td>NaN</td>\n",
       "      <td>NaN</td>\n",
       "      <td>NaN</td>\n",
       "      <td>NaN</td>\n",
       "    </tr>\n",
       "    <tr>\n",
       "      <th>1219</th>\n",
       "      <td>2017/12/11 7:00</td>\n",
       "      <td>14690.4258</td>\n",
       "      <td>15184.1602</td>\n",
       "      <td>14538.3965</td>\n",
       "      <td>14646.6904</td>\n",
       "      <td>2017/12/11 7:00</td>\n",
       "      <td>14710.0</td>\n",
       "      <td>14710.0</td>\n",
       "      <td>14710.0</td>\n",
       "      <td>14710.0</td>\n",
       "      <td>1.0</td>\n",
       "    </tr>\n",
       "  </tbody>\n",
       "</table>\n",
       "</div>"
      ],
      "text/plain": [
       "               btcdate    btcbegin     btchigh      btclow      btcend  \\\n",
       "1215  2017/12/11 11:00  16162.8467  16503.3926  16004.5996  16502.0645   \n",
       "1216  2017/12/11 10:00  15459.7676  16179.0859  15458.7402  16162.8467   \n",
       "1217   2017/12/11 9:00  15097.2529  15546.0771  15060.0107  15459.7676   \n",
       "1218   2017/12/11 8:00  14646.6904  15916.0957  14643.7852  15097.2529   \n",
       "1219   2017/12/11 7:00  14690.4258  15184.1602  14538.3965  14646.6904   \n",
       "\n",
       "              cboedate  cboebegin  cboehigh  cboelow  cboeend  cboevolumn  \n",
       "1215  2017/12/11 11:00    17540.0   18660.0  17400.0  18660.0         7.0  \n",
       "1216  2017/12/11 10:00    17000.0   17260.0  17000.0  17260.0         3.0  \n",
       "1217   2017/12/11 9:00    16430.0   16800.0  16430.0  16800.0         2.0  \n",
       "1218   2017/12/11 8:00        NaN       NaN      NaN      NaN         NaN  \n",
       "1219   2017/12/11 7:00    14710.0   14710.0  14710.0  14710.0         1.0  "
      ]
     },
     "execution_count": 6,
     "metadata": {},
     "output_type": "execute_result"
    }
   ],
   "source": [
    "df1 = pd.read_csv('interpolation.csv',parse_dates=True,date_parser=my_parser)\n",
    "df1.tail()"
   ]
  },
  {
   "cell_type": "code",
   "execution_count": 7,
   "metadata": {},
   "outputs": [
    {
     "data": {
      "text/html": [
       "<div>\n",
       "<style scoped>\n",
       "    .dataframe tbody tr th:only-of-type {\n",
       "        vertical-align: middle;\n",
       "    }\n",
       "\n",
       "    .dataframe tbody tr th {\n",
       "        vertical-align: top;\n",
       "    }\n",
       "\n",
       "    .dataframe thead th {\n",
       "        text-align: right;\n",
       "    }\n",
       "</style>\n",
       "<table border=\"1\" class=\"dataframe\">\n",
       "  <thead>\n",
       "    <tr style=\"text-align: right;\">\n",
       "      <th></th>\n",
       "      <th>btcdate</th>\n",
       "      <th>btcbegin</th>\n",
       "      <th>btchigh</th>\n",
       "      <th>btclow</th>\n",
       "      <th>btcend</th>\n",
       "      <th>cboedate</th>\n",
       "      <th>cboebegin</th>\n",
       "      <th>cboehigh</th>\n",
       "      <th>cboelow</th>\n",
       "      <th>cboeend</th>\n",
       "      <th>cboevolumn</th>\n",
       "    </tr>\n",
       "  </thead>\n",
       "  <tbody>\n",
       "    <tr>\n",
       "      <th>0</th>\n",
       "      <td>2018-02-16 14:00:00</td>\n",
       "      <td>10002.7793</td>\n",
       "      <td>10145.4453</td>\n",
       "      <td>10002.4316</td>\n",
       "      <td>10099.9063</td>\n",
       "      <td>2018-02-16 14:00:00</td>\n",
       "      <td>10130.0</td>\n",
       "      <td>10170.0</td>\n",
       "      <td>10090.0</td>\n",
       "      <td>10120.0</td>\n",
       "      <td>29.0</td>\n",
       "    </tr>\n",
       "    <tr>\n",
       "      <th>1</th>\n",
       "      <td>2018-02-16 13:00:00</td>\n",
       "      <td>10121.5996</td>\n",
       "      <td>10125.2246</td>\n",
       "      <td>9955.7051</td>\n",
       "      <td>10002.7793</td>\n",
       "      <td>2018-02-16 13:00:00</td>\n",
       "      <td>10060.0</td>\n",
       "      <td>10140.0</td>\n",
       "      <td>9980.0</td>\n",
       "      <td>10110.0</td>\n",
       "      <td>106.0</td>\n",
       "    </tr>\n",
       "    <tr>\n",
       "      <th>2</th>\n",
       "      <td>2018-02-16 12:00:00</td>\n",
       "      <td>10193.3984</td>\n",
       "      <td>10218.4492</td>\n",
       "      <td>10056.2695</td>\n",
       "      <td>10121.5996</td>\n",
       "      <td>2018-02-16 12:00:00</td>\n",
       "      <td>10180.0</td>\n",
       "      <td>10190.0</td>\n",
       "      <td>10050.0</td>\n",
       "      <td>10060.0</td>\n",
       "      <td>56.0</td>\n",
       "    </tr>\n",
       "    <tr>\n",
       "      <th>3</th>\n",
       "      <td>2018-02-16 11:00:00</td>\n",
       "      <td>10300.0098</td>\n",
       "      <td>10300.5430</td>\n",
       "      <td>10167.4785</td>\n",
       "      <td>10193.3984</td>\n",
       "      <td>2018-02-16 11:00:00</td>\n",
       "      <td>10240.0</td>\n",
       "      <td>10260.0</td>\n",
       "      <td>10170.0</td>\n",
       "      <td>10200.0</td>\n",
       "      <td>48.0</td>\n",
       "    </tr>\n",
       "    <tr>\n",
       "      <th>4</th>\n",
       "      <td>2018-02-16 10:00:00</td>\n",
       "      <td>10237.0479</td>\n",
       "      <td>10300.0098</td>\n",
       "      <td>10155.6904</td>\n",
       "      <td>10300.0098</td>\n",
       "      <td>2018-02-16 10:00:00</td>\n",
       "      <td>10240.0</td>\n",
       "      <td>10320.0</td>\n",
       "      <td>10200.0</td>\n",
       "      <td>10230.0</td>\n",
       "      <td>102.0</td>\n",
       "    </tr>\n",
       "  </tbody>\n",
       "</table>\n",
       "</div>"
      ],
      "text/plain": [
       "              btcdate    btcbegin     btchigh      btclow      btcend  \\\n",
       "0 2018-02-16 14:00:00  10002.7793  10145.4453  10002.4316  10099.9063   \n",
       "1 2018-02-16 13:00:00  10121.5996  10125.2246   9955.7051  10002.7793   \n",
       "2 2018-02-16 12:00:00  10193.3984  10218.4492  10056.2695  10121.5996   \n",
       "3 2018-02-16 11:00:00  10300.0098  10300.5430  10167.4785  10193.3984   \n",
       "4 2018-02-16 10:00:00  10237.0479  10300.0098  10155.6904  10300.0098   \n",
       "\n",
       "             cboedate  cboebegin  cboehigh  cboelow  cboeend  cboevolumn  \n",
       "0 2018-02-16 14:00:00    10130.0   10170.0  10090.0  10120.0        29.0  \n",
       "1 2018-02-16 13:00:00    10060.0   10140.0   9980.0  10110.0       106.0  \n",
       "2 2018-02-16 12:00:00    10180.0   10190.0  10050.0  10060.0        56.0  \n",
       "3 2018-02-16 11:00:00    10240.0   10260.0  10170.0  10200.0        48.0  \n",
       "4 2018-02-16 10:00:00    10240.0   10320.0  10200.0  10230.0       102.0  "
      ]
     },
     "execution_count": 7,
     "metadata": {},
     "output_type": "execute_result"
    }
   ],
   "source": [
    "df1['btcdate'] = pd.to_datetime(df1['btcdate'],format='%Y/%m/%d %H:%M')\n",
    "df1['cboedate'] = pd.to_datetime(df1['cboedate'],format='%Y/%m/%d %H:%M')\n",
    "df1.head(5)\n"
   ]
  },
  {
   "cell_type": "code",
   "execution_count": 8,
   "metadata": {},
   "outputs": [
    {
     "data": {
      "text/html": [
       "<div>\n",
       "<style scoped>\n",
       "    .dataframe tbody tr th:only-of-type {\n",
       "        vertical-align: middle;\n",
       "    }\n",
       "\n",
       "    .dataframe tbody tr th {\n",
       "        vertical-align: top;\n",
       "    }\n",
       "\n",
       "    .dataframe thead th {\n",
       "        text-align: right;\n",
       "    }\n",
       "</style>\n",
       "<table border=\"1\" class=\"dataframe\">\n",
       "  <thead>\n",
       "    <tr style=\"text-align: right;\">\n",
       "      <th></th>\n",
       "      <th>btcdate</th>\n",
       "      <th>btcbegin</th>\n",
       "      <th>btchigh</th>\n",
       "      <th>btclow</th>\n",
       "      <th>btcend</th>\n",
       "      <th>cboedate</th>\n",
       "      <th>cboebegin</th>\n",
       "      <th>cboehigh</th>\n",
       "      <th>cboelow</th>\n",
       "      <th>cboeend</th>\n",
       "      <th>cboevolumn</th>\n",
       "    </tr>\n",
       "  </thead>\n",
       "  <tbody>\n",
       "    <tr>\n",
       "      <th>1215</th>\n",
       "      <td>2017-12-11 11:00:00</td>\n",
       "      <td>16162.8467</td>\n",
       "      <td>16503.3926</td>\n",
       "      <td>16004.5996</td>\n",
       "      <td>16502.0645</td>\n",
       "      <td>2017-12-11 11:00:00</td>\n",
       "      <td>17540.0</td>\n",
       "      <td>18660.0</td>\n",
       "      <td>17400.0</td>\n",
       "      <td>18660.0</td>\n",
       "      <td>7.0</td>\n",
       "    </tr>\n",
       "    <tr>\n",
       "      <th>1216</th>\n",
       "      <td>2017-12-11 10:00:00</td>\n",
       "      <td>15459.7676</td>\n",
       "      <td>16179.0859</td>\n",
       "      <td>15458.7402</td>\n",
       "      <td>16162.8467</td>\n",
       "      <td>2017-12-11 10:00:00</td>\n",
       "      <td>17000.0</td>\n",
       "      <td>17260.0</td>\n",
       "      <td>17000.0</td>\n",
       "      <td>17260.0</td>\n",
       "      <td>3.0</td>\n",
       "    </tr>\n",
       "    <tr>\n",
       "      <th>1217</th>\n",
       "      <td>2017-12-11 09:00:00</td>\n",
       "      <td>15097.2529</td>\n",
       "      <td>15546.0771</td>\n",
       "      <td>15060.0107</td>\n",
       "      <td>15459.7676</td>\n",
       "      <td>2017-12-11 09:00:00</td>\n",
       "      <td>16430.0</td>\n",
       "      <td>16800.0</td>\n",
       "      <td>16430.0</td>\n",
       "      <td>16800.0</td>\n",
       "      <td>2.0</td>\n",
       "    </tr>\n",
       "    <tr>\n",
       "      <th>1218</th>\n",
       "      <td>2017-12-11 08:00:00</td>\n",
       "      <td>14646.6904</td>\n",
       "      <td>15916.0957</td>\n",
       "      <td>14643.7852</td>\n",
       "      <td>15097.2529</td>\n",
       "      <td>2017-12-11 08:00:00</td>\n",
       "      <td>15570.0</td>\n",
       "      <td>15755.0</td>\n",
       "      <td>15570.0</td>\n",
       "      <td>15755.0</td>\n",
       "      <td>1.5</td>\n",
       "    </tr>\n",
       "    <tr>\n",
       "      <th>1219</th>\n",
       "      <td>2017-12-11 07:00:00</td>\n",
       "      <td>14690.4258</td>\n",
       "      <td>15184.1602</td>\n",
       "      <td>14538.3965</td>\n",
       "      <td>14646.6904</td>\n",
       "      <td>2017-12-11 07:00:00</td>\n",
       "      <td>14710.0</td>\n",
       "      <td>14710.0</td>\n",
       "      <td>14710.0</td>\n",
       "      <td>14710.0</td>\n",
       "      <td>1.0</td>\n",
       "    </tr>\n",
       "  </tbody>\n",
       "</table>\n",
       "</div>"
      ],
      "text/plain": [
       "                 btcdate    btcbegin     btchigh      btclow      btcend  \\\n",
       "1215 2017-12-11 11:00:00  16162.8467  16503.3926  16004.5996  16502.0645   \n",
       "1216 2017-12-11 10:00:00  15459.7676  16179.0859  15458.7402  16162.8467   \n",
       "1217 2017-12-11 09:00:00  15097.2529  15546.0771  15060.0107  15459.7676   \n",
       "1218 2017-12-11 08:00:00  14646.6904  15916.0957  14643.7852  15097.2529   \n",
       "1219 2017-12-11 07:00:00  14690.4258  15184.1602  14538.3965  14646.6904   \n",
       "\n",
       "                cboedate  cboebegin  cboehigh  cboelow  cboeend  cboevolumn  \n",
       "1215 2017-12-11 11:00:00    17540.0   18660.0  17400.0  18660.0         7.0  \n",
       "1216 2017-12-11 10:00:00    17000.0   17260.0  17000.0  17260.0         3.0  \n",
       "1217 2017-12-11 09:00:00    16430.0   16800.0  16430.0  16800.0         2.0  \n",
       "1218 2017-12-11 08:00:00    15570.0   15755.0  15570.0  15755.0         1.5  \n",
       "1219 2017-12-11 07:00:00    14710.0   14710.0  14710.0  14710.0         1.0  "
      ]
     },
     "execution_count": 8,
     "metadata": {},
     "output_type": "execute_result"
    }
   ],
   "source": [
    "df1 = df1.interpolate(method='linear')\n",
    "df1.tail()"
   ]
  },
  {
   "cell_type": "code",
   "execution_count": 83,
   "metadata": {},
   "outputs": [],
   "source": [
    "#df1.corr"
   ]
  },
  {
   "cell_type": "code",
   "execution_count": 9,
   "metadata": {},
   "outputs": [],
   "source": [
    "from sklearn import preprocessing\n"
   ]
  },
  {
   "cell_type": "raw",
   "metadata": {},
   "source": [
    "x=pd.concat([df1.btcbegin, df1.cboehigh,df1.cboelow],axis=1)\n",
    "\n",
    "min_max_scaler = preprocessing.MinMaxScaler()\n",
    "x_scaled = min_max_scaler.fit_transform(x)\n",
    "x_scaled.head\n",
    "\n",
    "x_new = pd.DataFrame(x_scaled)\n",
    "x_new.head(5)\n",
    "\n",
    "df_nm = pd.concat([df1.btcdate,x_new],axis=1)\n",
    "df_nm.head(5)\n",
    "\n",
    "df_nm = df_nm.set_index('btcdate')\n",
    "df_nm.head(5)\n",
    "\n",
    "df_nm = df_nm.sort_index(ascending=True)\n",
    "df_nm.head(5)"
   ]
  },
  {
   "cell_type": "code",
   "execution_count": 10,
   "metadata": {},
   "outputs": [],
   "source": [
    "df1 = df1.drop(['cboedate'],axis=1)\n",
    "df1 = df1.set_index('btcdate')\n"
   ]
  },
  {
   "cell_type": "code",
   "execution_count": 11,
   "metadata": {},
   "outputs": [
    {
     "data": {
      "text/html": [
       "<div>\n",
       "<style scoped>\n",
       "    .dataframe tbody tr th:only-of-type {\n",
       "        vertical-align: middle;\n",
       "    }\n",
       "\n",
       "    .dataframe tbody tr th {\n",
       "        vertical-align: top;\n",
       "    }\n",
       "\n",
       "    .dataframe thead th {\n",
       "        text-align: right;\n",
       "    }\n",
       "</style>\n",
       "<table border=\"1\" class=\"dataframe\">\n",
       "  <thead>\n",
       "    <tr style=\"text-align: right;\">\n",
       "      <th></th>\n",
       "      <th>btcbegin</th>\n",
       "      <th>btchigh</th>\n",
       "      <th>btclow</th>\n",
       "      <th>btcend</th>\n",
       "      <th>cboebegin</th>\n",
       "      <th>cboehigh</th>\n",
       "      <th>cboelow</th>\n",
       "      <th>cboeend</th>\n",
       "      <th>cboevolumn</th>\n",
       "    </tr>\n",
       "    <tr>\n",
       "      <th>btcdate</th>\n",
       "      <th></th>\n",
       "      <th></th>\n",
       "      <th></th>\n",
       "      <th></th>\n",
       "      <th></th>\n",
       "      <th></th>\n",
       "      <th></th>\n",
       "      <th></th>\n",
       "      <th></th>\n",
       "    </tr>\n",
       "  </thead>\n",
       "  <tbody>\n",
       "    <tr>\n",
       "      <th>2017-12-11 07:00:00</th>\n",
       "      <td>14690.4258</td>\n",
       "      <td>15184.1602</td>\n",
       "      <td>14538.3965</td>\n",
       "      <td>14646.6904</td>\n",
       "      <td>14710.0</td>\n",
       "      <td>14710.0</td>\n",
       "      <td>14710.0</td>\n",
       "      <td>14710.0</td>\n",
       "      <td>1.0</td>\n",
       "    </tr>\n",
       "    <tr>\n",
       "      <th>2017-12-11 08:00:00</th>\n",
       "      <td>14646.6904</td>\n",
       "      <td>15916.0957</td>\n",
       "      <td>14643.7852</td>\n",
       "      <td>15097.2529</td>\n",
       "      <td>15570.0</td>\n",
       "      <td>15755.0</td>\n",
       "      <td>15570.0</td>\n",
       "      <td>15755.0</td>\n",
       "      <td>1.5</td>\n",
       "    </tr>\n",
       "    <tr>\n",
       "      <th>2017-12-11 09:00:00</th>\n",
       "      <td>15097.2529</td>\n",
       "      <td>15546.0771</td>\n",
       "      <td>15060.0107</td>\n",
       "      <td>15459.7676</td>\n",
       "      <td>16430.0</td>\n",
       "      <td>16800.0</td>\n",
       "      <td>16430.0</td>\n",
       "      <td>16800.0</td>\n",
       "      <td>2.0</td>\n",
       "    </tr>\n",
       "    <tr>\n",
       "      <th>2017-12-11 10:00:00</th>\n",
       "      <td>15459.7676</td>\n",
       "      <td>16179.0859</td>\n",
       "      <td>15458.7402</td>\n",
       "      <td>16162.8467</td>\n",
       "      <td>17000.0</td>\n",
       "      <td>17260.0</td>\n",
       "      <td>17000.0</td>\n",
       "      <td>17260.0</td>\n",
       "      <td>3.0</td>\n",
       "    </tr>\n",
       "    <tr>\n",
       "      <th>2017-12-11 11:00:00</th>\n",
       "      <td>16162.8467</td>\n",
       "      <td>16503.3926</td>\n",
       "      <td>16004.5996</td>\n",
       "      <td>16502.0645</td>\n",
       "      <td>17540.0</td>\n",
       "      <td>18660.0</td>\n",
       "      <td>17400.0</td>\n",
       "      <td>18660.0</td>\n",
       "      <td>7.0</td>\n",
       "    </tr>\n",
       "  </tbody>\n",
       "</table>\n",
       "</div>"
      ],
      "text/plain": [
       "                       btcbegin     btchigh      btclow      btcend  \\\n",
       "btcdate                                                               \n",
       "2017-12-11 07:00:00  14690.4258  15184.1602  14538.3965  14646.6904   \n",
       "2017-12-11 08:00:00  14646.6904  15916.0957  14643.7852  15097.2529   \n",
       "2017-12-11 09:00:00  15097.2529  15546.0771  15060.0107  15459.7676   \n",
       "2017-12-11 10:00:00  15459.7676  16179.0859  15458.7402  16162.8467   \n",
       "2017-12-11 11:00:00  16162.8467  16503.3926  16004.5996  16502.0645   \n",
       "\n",
       "                     cboebegin  cboehigh  cboelow  cboeend  cboevolumn  \n",
       "btcdate                                                                 \n",
       "2017-12-11 07:00:00    14710.0   14710.0  14710.0  14710.0         1.0  \n",
       "2017-12-11 08:00:00    15570.0   15755.0  15570.0  15755.0         1.5  \n",
       "2017-12-11 09:00:00    16430.0   16800.0  16430.0  16800.0         2.0  \n",
       "2017-12-11 10:00:00    17000.0   17260.0  17000.0  17260.0         3.0  \n",
       "2017-12-11 11:00:00    17540.0   18660.0  17400.0  18660.0         7.0  "
      ]
     },
     "execution_count": 11,
     "metadata": {},
     "output_type": "execute_result"
    }
   ],
   "source": [
    "df1 = df1.sort_index(ascending=True)\n",
    "df1.head(5)"
   ]
  },
  {
   "cell_type": "code",
   "execution_count": 12,
   "metadata": {},
   "outputs": [],
   "source": [
    "df1 = df1.reset_index(drop=True)\n",
    "#df1.loc[0:]"
   ]
  },
  {
   "cell_type": "code",
   "execution_count": 13,
   "metadata": {},
   "outputs": [
    {
     "name": "stdout",
     "output_type": "stream",
     "text": [
      "[ 0.04134248  0.10520991  0.070235    0.67623924 -0.16455206]\n",
      "[8233.46741261 8370.23390201 8276.66819212 8087.57206236 8008.50460019]\n",
      "[7867.1465 7681.9551 7555.043  7691.3047 7648.0254]\n"
     ]
    }
   ],
   "source": [
    "from sklearn import linear_model\n",
    "\n",
    "interval = 3 # to predict the price of btc at 3 hours later.\n",
    "dataTrain = df1.loc[1:1000] # use old 1000 recordes as training set\n",
    "dataTest = df1.loc[1001:] # use the remainant as testing set\n",
    "\n",
    "x_train = dataTrain[['cboebegin', 'cboehigh','cboelow','cboeend','cboevolumn']].values.reshape(-1,5)\n",
    "x_train = x_train[:1000-interval]\n",
    "y_train = dataTrain['btcbegin'].values\n",
    "y_train = y_train[interval:]\n",
    "\n",
    "x_test = dataTest[['cboebegin', 'cboehigh','cboelow','cboeend','cboevolumn']].values.reshape(-1,5)\n",
    "x_test = x_test[:-interval]\n",
    "y_test = dataTest['btcbegin'].values\n",
    "y_test = y_test[interval:]\n",
    "y_donothing = dataTest['btcbegin'].values # just use the btc price that time (not 3 hours later) as\n",
    "# predicted price = do nothing.\n",
    "y_donothing = y_donothing[:1000-interval] # let them be same size\n",
    "\n",
    "ols = linear_model.LinearRegression(normalize=True)\n",
    "\n",
    "model = ols.fit(x_train, y_train)\n",
    "x_predict = model.predict(x_test)\n",
    "\n",
    "print(model.coef_)\n",
    "print (model.predict(x_test)[0:5])\n",
    "print (y_test[0:5])\n",
    "\n"
   ]
  },
  {
   "cell_type": "code",
   "execution_count": 14,
   "metadata": {},
   "outputs": [
    {
     "name": "stdout",
     "output_type": "stream",
     "text": [
      "[7720.98381395 7918.9959025  7676.01389724 7534.95063834 7400.50293442]\n",
      "[7867.1465 7681.9551 7555.043  7691.3047 7648.0254]\n"
     ]
    }
   ],
   "source": [
    "from sklearn.preprocessing import PolynomialFeatures\n",
    "from sklearn.linear_model import LinearRegression\n",
    "from sklearn.pipeline import Pipeline\n",
    "model = Pipeline([('poly', PolynomialFeatures(degree=2)),('linear', LinearRegression(fit_intercept=False))])     \n",
    "model = model.fit(x_train, y_train)\n",
    "model.named_steps['linear'].coef_\n",
    "print (model.predict(x_test)[0:5])\n",
    "print (y_test[0:5])"
   ]
  },
  {
   "cell_type": "code",
   "execution_count": 15,
   "metadata": {
    "scrolled": true
   },
   "outputs": [
    {
     "data": {
      "image/png": "[encoded data removed]",
      "text/plain": [
       "<matplotlib.figure.Figure at 0x1171faba8>"
      ]
     },
     "metadata": {},
     "output_type": "display_data"
    }
   ],
   "source": [
    "plt.plot(range(100),model.predict(x_test)[0:100], 'o', color='black');\n",
    "plt.plot(range(100),y_test[0:100], 'o', color='red');\n",
    "plt.plot(range(100),y_donothing[0:100], 'o', color='blue');"
   ]
  },
  {
   "cell_type": "code",
   "execution_count": 36,
   "metadata": {},
   "outputs": [
    {
     "data": {
      "text/plain": [
       "4596.213807478169"
      ]
     },
     "execution_count": 36,
     "metadata": {},
     "output_type": "execute_result"
    }
   ],
   "source": [
    "np.linalg.norm(x_predict[0:100]-y_test[0:100])"
   ]
  },
  {
   "cell_type": "code",
   "execution_count": 37,
   "metadata": {},
   "outputs": [
    {
     "data": {
      "text/plain": [
       "3027.9269798052946"
      ]
     },
     "execution_count": 37,
     "metadata": {},
     "output_type": "execute_result"
    }
   ],
   "source": [
    "np.linalg.norm(y_donothing[0:100]-y_test[0:100])"
   ]
  },
  {
   "cell_type": "code",
   "execution_count": 20,
   "metadata": {},
   "outputs": [
    {
     "data": {
      "image/png": "[encoded data removed]",
      "text/plain": [
       "<matplotlib.figure.Figure at 0x1129f3400>"
      ]
     },
     "metadata": {},
     "output_type": "display_data"
    }
   ],
   "source": [
    "plt.scatter(range(100),model.predict(x_test)[0:100], color='black');\n",
    "plt.scatter(range(100),y_test[0:100], color='red');"
   ]
  }
 ],
 "metadata": {
  "kernelspec": {
   "display_name": "Python 3",
   "language": "python",
   "name": "python3"
  },
  "language_info": {
   "codemirror_mode": {
    "name": "ipython",
    "version": 3
   },
   "file_extension": ".py",
   "mimetype": "text/x-python",
   "name": "python",
   "nbconvert_exporter": "python",
   "pygments_lexer": "ipython3",
   "version": "3.6.4"
  }
 },
 "nbformat": 4,
 "nbformat_minor": 2
}
